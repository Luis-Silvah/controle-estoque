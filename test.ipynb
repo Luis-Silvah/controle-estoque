{
 "cells": [
  {
   "cell_type": "code",
   "execution_count": 1,
   "metadata": {},
   "outputs": [],
   "source": [
    "import oracledb\n",
    "\n",
    "connection = oracledb.connect(\n",
    "    user = 'BD150224213',\n",
    "    password = 'Hhqnm9',\n",
    "    dsn = '172.16.12.14/xe',\n",
    ")\n"
   ]
  },
  {
   "cell_type": "code",
   "execution_count": 2,
   "metadata": {},
   "outputs": [],
   "source": [
    "cursor = connection.cursor()\n"
   ]
  },
  {
   "cell_type": "code",
   "execution_count": 26,
   "metadata": {},
   "outputs": [],
   "source": [
    "cursor = connection.cursor()\n",
    "cursor.execute('DROP TABLE produto')\n",
    "\n",
    "cursor.execute(\"\"\"\n",
    "                CREATE TABLE produto(\n",
    "                nome  VARCHAR2(255) NOT NULL ,\n",
    "                descricao VARCHAR2(255),\n",
    "                codigo VARCHAR2(30) NOT NULL PRIMARY KEY,\n",
    "                custo INTEGER NOT NULL,\n",
    "                custoFixo INTEGER NOT NULL,\n",
    "                comissao INTEGER NOT NULL,\n",
    "                imposto INTEGER NOT NULL,\n",
    "                rentabilidade NUMBER NOT NULL \n",
    "                )\"\"\"\n",
    ")"
   ]
  },
  {
   "cell_type": "code",
   "execution_count": 27,
   "metadata": {},
   "outputs": [],
   "source": [
    "cursor = connection.cursor()\n",
    "\n",
    "cursor.execute(\"\"\" \n",
    "                INSERT INTO produto (nome, descricao, codigo, custo, custoFixo, comissao, imposto, rentabilidade) \n",
    "                VALUES ('Caneta', 'Caneta Profissional', '1', 36, 15, 5, 12, 20)\n",
    "\"\"\")\n",
    "cursor.execute(\"\"\" \n",
    "                INSERT INTO produto (nome, descricao, codigo, custo, custoFixo, comissao, imposto, rentabilidade) \n",
    "                VALUES ('Lapis', 'Preto B2', '2', 1, 1, 1, 1, 1)\n",
    "\"\"\")\n",
    "\n",
    "cursor.execute(\"\"\"\n",
    "                INSERT INTO produto (nome, descricao, codigo, custo, custoFixo, comissao, imposto, rentabilidade) \n",
    "                VALUES ('Caderno', 'Palmeiras', '3', 10, 10, 10, 10, 50)\n",
    "                \"\"\")\n",
    "\n",
    "\n",
    "\n",
    "cursor.execute(\"\"\"\n",
    "                INSERT INTO produto (nome, descricao, codigo, custo, custoFixo, comissao, imposto, rentabilidade) \n",
    "                VALUES ('Caderno', 'São Paulo', '4', 10, 10, 10, 10, 0)\n",
    "                \"\"\")\n",
    "\n",
    "cursor.execute(\"\"\"\n",
    "                INSERT INTO produto (nome, descricao, codigo, custo, custoFixo, comissao, imposto, rentabilidade) \n",
    "                VALUES ('Caderno', 'Corinthians', '5', 10, 10, 10, 10, -20)\n",
    "                \"\"\")\n",
    "\n",
    "cursor.execute(\"\"\"\n",
    "                INSERT INTO produto (nome, descricao, codigo, custo, custoFixo, comissao, imposto, rentabilidade) \n",
    "                VALUES ('Caderno', 'Ponte Preta', '6', 10, 30, 20, 20, 29.99)\n",
    "                \"\"\")\n",
    "\n",
    "\n",
    "connection.commit()\n",
    "\n"
   ]
  },
  {
   "cell_type": "code",
   "execution_count": 38,
   "metadata": {},
   "outputs": [
    {
     "name": "stdout",
     "output_type": "stream",
     "text": [
      "Menu:\n",
      "1. Adicionar novo produto\n",
      "2. Selecionar um produto\n",
      "3. Sair\n",
      "====================================\n",
      "\t Sistema de Cadastro\n",
      "====================================\n",
      "Cadastro concluído com sucesso!\n",
      "Menu:\n",
      "1. Adicionar novo produto\n",
      "2. Selecionar um produto\n",
      "3. Sair\n"
     ]
    }
   ],
   "source": [
    "\n",
    "\n",
    "def exibir_menu():\n",
    "    print(\"Menu:\")\n",
    "    print(\"1. Adicionar novo produto\")\n",
    "    print(\"2. Selecionar um produto\")\n",
    "    print(\"3. Sair\")\n",
    "\n",
    "def adicionar_novoProduto():\n",
    "    print(36 * \"=\")\n",
    "    print(\"\\t Sistema de Cadastro\")\n",
    "    print(36 * \"=\")\n",
    "\n",
    "    codProduto = input(\"Digite o código do produto: \")\n",
    "    nomeProduto = input(\"Digite o nome do produto: \")\n",
    "    descProduto = input(\"Adicione uma descrição ao produto: \")\n",
    "\n",
    "    custoProduto = float(input(\"Qual o custo do Produto: \"))\n",
    "    custoFixoPct = float(input(\"Qual os custo fixos/administrativos do comércio [%]: \"))\n",
    "    comissaoVendaPct = float(input(\"Qual a comissão de venda do produto,em porcentagem [%]: \"))\n",
    "    impostoVendaPct = float(input(\"Qual a aliquota de imposto desejada [%]: \"))\n",
    "    margemLucroPct = float(input(\"Qual a margem de lucro desejada [%]: \"))\n",
    "\n",
    "    cursor = connection.cursor()\n",
    "\n",
    "    cursor.execute(f\"\"\" \n",
    "                    INSERT INTO produto (nome, descricao, codigo, custo, custoFixo, comissao, imposto, rentabilidade) \n",
    "                    VALUES ('{nomeProduto}', '{descProduto}', '{codProduto}', {custoProduto}, {custoFixoPct}, {comissaoVendaPct}, {impostoVendaPct}, {margemLucroPct})\n",
    "                \"\"\")\n",
    "    \n",
    "    \n",
    "    print('Cadastro concluído com sucesso!')\n",
    "\n",
    "\n",
    "def selecionar_produto():\n",
    "    # Lógica para exibir as tarefas existentes\n",
    "    print(\"Produtos existentes:\")\n",
    "    print(\"- Tarefa 1\")\n",
    "    print(\"- Tarefa 2\")\n",
    "\n",
    "def main():\n",
    "    while True:\n",
    "        exibir_menu()\n",
    "        \n",
    "        opcao = input(\"Escolha uma opção: \")\n",
    "        \n",
    "        if opcao == \"1\":\n",
    "            adicionar_novoProduto()\n",
    "        elif opcao == \"2\":\n",
    "            selecionar_produto()\n",
    "        elif opcao == \"3\":\n",
    "            break\n",
    "        else:\n",
    "            print(\"Opção inválida. Tente novamente.\")\n",
    "\n",
    "if __name__ == \"__main__\":\n",
    "    main()"
   ]
  },
  {
   "cell_type": "code",
   "execution_count": 40,
   "metadata": {},
   "outputs": [
    {
     "name": "stdout",
     "output_type": "stream",
     "text": [
      "('Caneta', 'Caneta Profissional', '1', 36, 15, 5, 12, 20)\n",
      "('Lapis', 'Preto B2', '2', 1, 1, 1, 1, 1)\n",
      "('Caderno', 'Palmeiras', '3', 10, 10, 10, 10, 50)\n",
      "('Caderno', 'São Paulo', '4', 10, 10, 10, 10, 0)\n",
      "('Caderno', 'Corinthians', '5', 10, 10, 10, 10, -20)\n",
      "('Caderno', 'Ponte Preta', '6', 10, 30, 20, 20, 29.99)\n",
      "('Teste', 'Teste', '7', 10, 10, 10, 10, 10)\n"
     ]
    }
   ],
   "source": [
    "cursor = connection.cursor()\n",
    "cursor.execute('SELECT * FROM produto')\n",
    "resultado = cursor.fetchall()\n",
    "for row in resultado:\n",
    "    print(row)\n",
    "cursor.close()"
   ]
  }
 ],
 "metadata": {
  "kernelspec": {
   "display_name": "base",
   "language": "python",
   "name": "python3"
  },
  "language_info": {
   "codemirror_mode": {
    "name": "ipython",
    "version": 3
   },
   "file_extension": ".py",
   "mimetype": "text/x-python",
   "name": "python",
   "nbconvert_exporter": "python",
   "pygments_lexer": "ipython3",
   "version": "3.10.11"
  }
 },
 "nbformat": 4,
 "nbformat_minor": 2
}
