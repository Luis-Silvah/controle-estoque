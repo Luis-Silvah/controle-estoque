{
 "cells": [
  {
   "cell_type": "code",
   "execution_count": 1,
   "metadata": {},
   "outputs": [],
   "source": [
    "import oracledb\n",
    "\n",
    "connection = oracledb.connect(\n",
    "    user = 'BD150224213',\n",
    "    password = 'Hhqnm9',\n",
    "    dsn = '172.16.12.14/xe',\n",
    ")\n"
   ]
  },
  {
   "cell_type": "code",
   "execution_count": 2,
   "metadata": {},
   "outputs": [],
   "source": [
    "cursor = connection.cursor()\n"
   ]
  },
  {
   "cell_type": "code",
   "execution_count": 44,
   "metadata": {},
   "outputs": [],
   "source": [
    "cursor = connection.cursor()\n",
    "cursor.execute('DROP TABLE produto')\n",
    "\n",
    "cursor.execute(\"\"\"\n",
    "                CREATE TABLE produto(\n",
    "                nome  VARCHAR2(255) NOT NULL ,\n",
    "                descricao VARCHAR2(255),\n",
    "                codigo VARCHAR2(30) NOT NULL PRIMARY KEY,\n",
    "                custo INTEGER NOT NULL,\n",
    "                custoFixo INTEGER NOT NULL,\n",
    "                comissao INTEGER NOT NULL,\n",
    "                imposto INTEGER NOT NULL,\n",
    "                rentabilidade NUMBER NOT NULL \n",
    "                )\"\"\"\n",
    ")"
   ]
  },
  {
   "cell_type": "code",
   "execution_count": 45,
   "metadata": {},
   "outputs": [],
   "source": [
    "cursor = connection.cursor()\n",
    "\n",
    "cursor.execute(\"\"\" \n",
    "                INSERT INTO produto (nome, descricao, codigo, custo, custoFixo, comissao, imposto, rentabilidade) \n",
    "                VALUES ('Caneta', 'Caneta Profissional', '1', 36, 15, 5, 12, 20)\n",
    "\"\"\")\n",
    "cursor.execute(\"\"\" \n",
    "                INSERT INTO produto (nome, descricao, codigo, custo, custoFixo, comissao, imposto, rentabilidade) \n",
    "                VALUES ('Lapis', 'Preto B2', '2', 1, 1, 1, 1, 1)\n",
    "\"\"\")\n",
    "\n",
    "cursor.execute(\"\"\"\n",
    "                INSERT INTO produto (nome, descricao, codigo, custo, custoFixo, comissao, imposto, rentabilidade) \n",
    "                VALUES ('Caderno', 'Palmeiras', '3', 10, 10, 10, 10, 50)\n",
    "                \"\"\")\n",
    "\n",
    "\n",
    "\n",
    "cursor.execute(\"\"\"\n",
    "                INSERT INTO produto (nome, descricao, codigo, custo, custoFixo, comissao, imposto, rentabilidade) \n",
    "                VALUES ('Caderno', 'São Paulo', '4', 10, 10, 10, 10, 0)\n",
    "                \"\"\")\n",
    "\n",
    "cursor.execute(\"\"\"\n",
    "                INSERT INTO produto (nome, descricao, codigo, custo, custoFixo, comissao, imposto, rentabilidade) \n",
    "                VALUES ('Caderno', 'Corinthians', '5', 10, 10, 10, 10, -20)\n",
    "                \"\"\")\n",
    "\n",
    "cursor.execute(\"\"\"\n",
    "                INSERT INTO produto (nome, descricao, codigo, custo, custoFixo, comissao, imposto, rentabilidade) \n",
    "                VALUES ('Caderno', 'Ponte Preta', '6', 10, 30, 20, 20, 29.99)\n",
    "                \"\"\")\n",
    "\n",
    "\n",
    "connection.commit()\n",
    "\n"
   ]
  },
  {
   "cell_type": "code",
   "execution_count": 60,
   "metadata": {},
   "outputs": [
    {
     "name": "stdout",
     "output_type": "stream",
     "text": [
      "====================================\n",
      "Menu:\n",
      "====================================\n",
      "1. Adicionar novo produto\n",
      "2. Selecionar um produto\n",
      "3. Sair\n",
      "------------------------------------\n",
      "Caneta Profissional\n",
      "Caneta Profissional\n",
      "Caneta Profissional\n",
      "Caneta Profissional\n",
      "Caneta Profissional\n",
      "====================================\n",
      "Menu:\n",
      "====================================\n",
      "1. Adicionar novo produto\n",
      "2. Selecionar um produto\n",
      "3. Sair\n",
      "------------------------------------\n",
      "Caneta Profissional\n",
      "Caneta Profissional\n",
      "Caneta Profissional\n",
      "Caneta Profissional\n",
      "Caneta Profissional\n",
      "====================================\n",
      "Menu:\n",
      "====================================\n",
      "1. Adicionar novo produto\n",
      "2. Selecionar um produto\n",
      "3. Sair\n",
      "------------------------------------\n"
     ]
    }
   ],
   "source": [
    "campos = [\"nome\", \"descricao\", \"codigo\", \"custo\", 'custoFixo', 'comissao', 'imposto', 'rentabilidade']\n",
    "cod = ['1']\n",
    "def seleciona_produto(a,b):\n",
    "    cursor = connection.cursor()\n",
    "    cursor.execute('SELECT ' + campos[selecionaProduto] + ' FROM PRODUTO WHERE(codigo =' +str(selecionaProduto)+')')\n",
    "    resultado = cursor.fetchall()\n",
    "    for row in resultado:\n",
    "        print(row[0])\n",
    "    cursor.close()\n",
    "def exibir_menu():\n",
    "    print(36 * \"=\")\n",
    "    print(\"Menu:\")\n",
    "    print(36 * \"=\")\n",
    "    print(\"1. Adicionar novo produto\")\n",
    "    print(\"2. Selecionar um produto\")\n",
    "    print(\"3. Sair\")\n",
    "    print(36 * \"-\")\n",
    "def adicionar_novoProduto():\n",
    "    print(36 * \"=\")\n",
    "    print(\"\\t Sistema de Cadastro\")\n",
    "    print(36 * \"=\")\n",
    "\n",
    "    codProduto = input(\"Digite o código do produto: \")\n",
    "    nomeProduto = input(\"Digite o nome do produto: \")\n",
    "    descProduto = input(\"Adicione uma descrição ao produto: \")\n",
    "\n",
    "    custoProduto = float(input(\"Qual o custo do Produto: \"))\n",
    "    custoFixoPct = float(input(\"Qual os custo fixos/administrativos do comércio [%]: \"))\n",
    "    comissaoVendaPct = float(input(\"Qual a comissão de venda do produto,em porcentagem [%]: \"))\n",
    "    impostoVendaPct = float(input(\"Qual a aliquota de imposto desejada [%]: \"))\n",
    "    margemLucroPct = float(input(\"Qual a margem de lucro desejada [%]: \"))\n",
    "\n",
    "    cursor = connection.cursor()\n",
    "\n",
    "    cursor.execute(f\"\"\" \n",
    "                    INSERT INTO produto (nome, descricao, codigo, custo, custoFixo, comissao, imposto, rentabilidade) \n",
    "                    VALUES ('{nomeProduto}', '{descProduto}', '{codProduto}', {custoProduto}, {custoFixoPct}, {comissaoVendaPct}, {impostoVendaPct}, {margemLucroPct})\n",
    "                \"\"\")\n",
    "    connection.commit()\n",
    "    \n",
    "    print('Cadastro concluído com sucesso!')\n",
    "\n",
    "\n",
    "def selecionar_produto():\n",
    "    # Lógica para exibir as tarefas existentes\n",
    "    selecionaProduto = input('Digite o código do produto: ')\n",
    "    # Preço de venda produto\n",
    "    cursor = connection.cursor()\n",
    "    nomeBD = seleciona_produto(campos[0], selecionaProduto)\n",
    "    custoProdutoBD = seleciona_produto(campos[3], selecionaProduto)\n",
    "    comissaoVendaPctBD = seleciona_produto(campos[5], selecionaProduto)\n",
    "    impostoVendaPctBD = seleciona_produto(campos[6], selecionaProduto)\n",
    "    margemLucroPctBD = seleciona_produto(campos[7], selecionaProduto)\n",
    "    \n",
    "\n",
    "def main():\n",
    "    while True:\n",
    "        exibir_menu()\n",
    "        \n",
    "        opcao = input(\"Escolha uma opção: \")\n",
    "        \n",
    "        if opcao == \"1\":\n",
    "            adicionar_novoProduto()\n",
    "        elif opcao == \"2\":\n",
    "            selecionar_produto()\n",
    "        elif opcao == \"3\":\n",
    "            break\n",
    "        else:\n",
    "            print(\"Opção inválida. Tente novamente.\")\n",
    "\n",
    "if __name__ == \"__main__\":\n",
    "    main()"
   ]
  },
  {
   "cell_type": "code",
   "execution_count": 50,
   "metadata": {},
   "outputs": [],
   "source": [
    "def seleciona_produto(a,b):\n",
    "    cursor = connection.cursor()\n",
    "    cursor.execute('SELECT ' + campos[selecionaProduto] + ' FROM PRODUTO WHERE(codigo =' +str(selecionaProduto)+')')\n",
    "    resultado = cursor.fetchall()\n",
    "    for row in resultado:\n",
    "        print(row[0])\n",
    "    cursor.close()"
   ]
  },
  {
   "cell_type": "code",
   "execution_count": 32,
   "metadata": {},
   "outputs": [
    {
     "name": "stdout",
     "output_type": "stream",
     "text": [
      "1\n"
     ]
    }
   ],
   "source": [
    "cursor = connection.cursor()\n",
    "cursor.execute('SELECT ' + campos[2] + ' FROM PRODUTO WHERE(codigo =' +cod[0]+')')\n",
    "resultado = cursor.fetchall()\n",
    "for row in resultado:\n",
    "    print(row[0])\n",
    "cursor.close()"
   ]
  },
  {
   "cell_type": "code",
   "execution_count": 53,
   "metadata": {},
   "outputs": [
    {
     "name": "stdout",
     "output_type": "stream",
     "text": [
      "Caneta Profissional\n",
      "None\n"
     ]
    }
   ],
   "source": [
    "impostoVendaPctBD = seleciona_produto(campos[6], selecionaProduto)\n",
    "print(impostoVendaPctBD)"
   ]
  },
  {
   "cell_type": "code",
   "execution_count": 58,
   "metadata": {},
   "outputs": [
    {
     "name": "stdout",
     "output_type": "stream",
     "text": [
      "('Caneta Profissional',)\n",
      "None\n"
     ]
    }
   ],
   "source": [
    "a = seleciona_produto(campos[0],cod[0])\n",
    "print(a)"
   ]
  },
  {
   "cell_type": "code",
   "execution_count": 24,
   "metadata": {},
   "outputs": [
    {
     "data": {
      "text/plain": [
       "'nome'"
      ]
     },
     "execution_count": 24,
     "metadata": {},
     "output_type": "execute_result"
    }
   ],
   "source": [
    "campos[0]"
   ]
  },
  {
   "cell_type": "code",
   "execution_count": 11,
   "metadata": {},
   "outputs": [
    {
     "ename": "IndexError",
     "evalue": "tuple index out of range",
     "output_type": "error",
     "traceback": [
      "\u001b[1;31m---------------------------------------------------------------------------\u001b[0m",
      "\u001b[1;31mIndexError\u001b[0m                                Traceback (most recent call last)",
      "\u001b[1;32m~\\AppData\\Local\\Temp/ipykernel_22476/886685467.py\u001b[0m in \u001b[0;36m<module>\u001b[1;34m\u001b[0m\n\u001b[0;32m      4\u001b[0m \u001b[0mresultado\u001b[0m \u001b[1;33m=\u001b[0m \u001b[0mcursor\u001b[0m\u001b[1;33m.\u001b[0m\u001b[0mfetchall\u001b[0m\u001b[1;33m(\u001b[0m\u001b[1;33m)\u001b[0m\u001b[1;33m\u001b[0m\u001b[1;33m\u001b[0m\u001b[0m\n\u001b[0;32m      5\u001b[0m \u001b[1;32mfor\u001b[0m \u001b[0mrow\u001b[0m \u001b[1;32min\u001b[0m \u001b[0mresultado\u001b[0m\u001b[1;33m:\u001b[0m\u001b[1;33m\u001b[0m\u001b[1;33m\u001b[0m\u001b[0m\n\u001b[1;32m----> 6\u001b[1;33m     \u001b[0mprint\u001b[0m\u001b[1;33m(\u001b[0m\u001b[0mrow\u001b[0m\u001b[1;33m[\u001b[0m\u001b[1;36m1\u001b[0m\u001b[1;33m]\u001b[0m\u001b[1;33m)\u001b[0m\u001b[1;33m\u001b[0m\u001b[1;33m\u001b[0m\u001b[0m\n\u001b[0m\u001b[0;32m      7\u001b[0m \u001b[0mcursor\u001b[0m\u001b[1;33m.\u001b[0m\u001b[0mclose\u001b[0m\u001b[1;33m(\u001b[0m\u001b[1;33m)\u001b[0m\u001b[1;33m\u001b[0m\u001b[1;33m\u001b[0m\u001b[0m\n",
      "\u001b[1;31mIndexError\u001b[0m: tuple index out of range"
     ]
    }
   ],
   "source": [
    "selecionaProduto = int(input('Digite o código do produto: '))\n",
    "cursor = connection.cursor()\n",
    "cursor.execute(f'SELECT nome FROM PRODUTO WHERE(codigo = {selecionaProduto})')\n",
    "resultado = cursor.fetchall()\n",
    "for row in resultado:\n",
    "    print(row[0])\n",
    "cursor.close()\n"
   ]
  }
 ],
 "metadata": {
  "kernelspec": {
   "display_name": "base",
   "language": "python",
   "name": "python3"
  },
  "language_info": {
   "codemirror_mode": {
    "name": "ipython",
    "version": 3
   },
   "file_extension": ".py",
   "mimetype": "text/x-python",
   "name": "python",
   "nbconvert_exporter": "python",
   "pygments_lexer": "ipython3",
   "version": "3.10.11"
  }
 },
 "nbformat": 4,
 "nbformat_minor": 2
}
