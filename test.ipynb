{
 "cells": [
  {
   "cell_type": "code",
   "execution_count": 5,
   "metadata": {},
   "outputs": [],
   "source": [
    "import oracledb\n",
    "\n",
    "connection = oracledb.connect(\n",
    "    user = 'BD150224426',\n",
    "    password = 'Srzke6',\n",
    "    dsn = '172.16.12.14/xe',\n",
    ")\n"
   ]
  },
  {
   "cell_type": "code",
   "execution_count": 16,
   "metadata": {},
   "outputs": [],
   "source": [
    "cursor = connection.cursor()\n"
   ]
  },
  {
   "cell_type": "code",
   "execution_count": 53,
   "metadata": {},
   "outputs": [],
   "source": [
    "cursor = connection.cursor()\n",
    "\n",
    "cursor.execute(\"\"\"\n",
    "                CREATE TABLE produto(\n",
    "                nome  VARCHAR2(255) NOT NULL ,\n",
    "                descricao VARCHAR2(255),\n",
    "                codigo VARCHAR2(30) NOT NULL PRIMARY KEY,\n",
    "                custo INTEGER NOT NULL,\n",
    "                custoFixo INTEGER NOT NULL,\n",
    "                comissao INTEGER NOT NULL,\n",
    "                imposto INTEGER NOT NULL,\n",
    "                rentabilidade INTEGER NOT NULL \n",
    "                )\"\"\"\n",
    ")"
   ]
  },
  {
   "cell_type": "code",
   "execution_count": 56,
   "metadata": {},
   "outputs": [],
   "source": [
    "cursor = connection.cursor()\n",
    "\n",
    "cursor.execute(\"\"\" \n",
    "                INSERT INTO produto (nome, descricao, codigo, custo, custoFixo, comissao, imposto, rentabilidade) \n",
    "                VALUES ('Caneta', 'Caneta Profissional', '1', 36, 15, 5, 12, 20)\n",
    "                \"\"\")\n",
    "\n",
    "\n",
    "cursor.execute(\"\"\" \n",
    "                INSERT INTO produto (nome, descricao, codigo, custo, custoFixo, comissao, imposto, rentabilidade) \n",
    "                VALUES ('Caneta', 'Caneta Profissional', '3', 36, 15, 5, 12, 20)\n",
    "                \"\"\")\n",
    "\n",
    "\n",
    "connection.commit()\n",
    "\n"
   ]
  }
 ],
 "metadata": {
  "kernelspec": {
   "display_name": "base",
   "language": "python",
   "name": "python3"
  },
  "language_info": {
   "codemirror_mode": {
    "name": "ipython",
    "version": 3
   },
   "file_extension": ".py",
   "mimetype": "text/x-python",
   "name": "python",
   "nbconvert_exporter": "python",
   "pygments_lexer": "ipython3",
   "version": "3.10.12"
  }
 },
 "nbformat": 4,
 "nbformat_minor": 2
}
