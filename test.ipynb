{
 "cells": [
  {
   "cell_type": "code",
   "execution_count": 1,
   "metadata": {},
   "outputs": [],
   "source": [
    "import oracledb\n",
    "\n",
    "connection = oracledb.connect(\n",
    "    user = 'BD150224213',\n",
    "    password = 'Hhqnm9',\n",
    "    dsn = '172.16.12.14/xe',\n",
    ")\n"
   ]
  },
  {
   "cell_type": "code",
   "execution_count": 2,
   "metadata": {},
   "outputs": [],
   "source": [
    "cursor = connection.cursor()\n"
   ]
  },
  {
   "cell_type": "code",
   "execution_count": 3,
   "metadata": {},
   "outputs": [],
   "source": [
    "cursor = connection.cursor()\n",
    "cursor.execute('DROP TABLE produto')\n",
    "\n",
    "cursor.execute(\"\"\"\n",
    "                CREATE TABLE produto(\n",
    "                nome  VARCHAR2(255) NOT NULL ,\n",
    "                descricao VARCHAR2(255),\n",
    "                codigo VARCHAR2(30) NOT NULL PRIMARY KEY,\n",
    "                custo INTEGER NOT NULL,\n",
    "                custoFixo INTEGER NOT NULL,\n",
    "                comissao INTEGER NOT NULL,\n",
    "                imposto INTEGER NOT NULL,\n",
    "                rentabilidade NUMBER NOT NULL \n",
    "                )\"\"\"\n",
    ")"
   ]
  },
  {
   "cell_type": "code",
   "execution_count": 4,
   "metadata": {},
   "outputs": [],
   "source": [
    "cursor = connection.cursor()\n",
    "\n",
    "cursor.execute(\"\"\" \n",
    "                INSERT INTO produto (nome, descricao, codigo, custo, custoFixo, comissao, imposto, rentabilidade) \n",
    "                VALUES ('Caneta', 'Caneta Profissional', '1', 36, 15, 5, 12, 20)\n",
    "\"\"\")\n",
    "cursor.execute(\"\"\" \n",
    "                INSERT INTO produto (nome, descricao, codigo, custo, custoFixo, comissao, imposto, rentabilidade) \n",
    "                VALUES ('Lapis', 'Preto B2', '2', 1, 1, 1, 1, 1)\n",
    "\"\"\")\n",
    "\n",
    "cursor.execute(\"\"\"\n",
    "                INSERT INTO produto (nome, descricao, codigo, custo, custoFixo, comissao, imposto, rentabilidade) \n",
    "                VALUES ('Caderno', 'Palmeiras', '3', 10, 10, 10, 10, 50)\n",
    "                \"\"\")\n",
    "\n",
    "\n",
    "\n",
    "cursor.execute(\"\"\"\n",
    "                INSERT INTO produto (nome, descricao, codigo, custo, custoFixo, comissao, imposto, rentabilidade) \n",
    "                VALUES ('Caderno', 'São Paulo', '4', 10, 10, 10, 10, 0)\n",
    "                \"\"\")\n",
    "\n",
    "cursor.execute(\"\"\"\n",
    "                INSERT INTO produto (nome, descricao, codigo, custo, custoFixo, comissao, imposto, rentabilidade) \n",
    "                VALUES ('Caderno', 'Corinthians', '5', 10, 10, 10, 10, -20)\n",
    "                \"\"\")\n",
    "\n",
    "cursor.execute(\"\"\"\n",
    "                INSERT INTO produto (nome, descricao, codigo, custo, custoFixo, comissao, imposto, rentabilidade) \n",
    "                VALUES ('Caderno', 'Ponte Preta', '6', 10, 30, 20, 20, 29.99)\n",
    "                \"\"\")\n",
    "\n",
    "\n",
    "connection.commit()\n",
    "\n"
   ]
  },
  {
   "cell_type": "code",
   "execution_count": 34,
   "metadata": {},
   "outputs": [],
   "source": [
    "cursor = connection.cursor()\n",
    "cursor.execute('SELECT  codigo FROM PRODUTO ')\n",
    "resultado = cursor.fetchall()\n",
    "cod= []\n",
    "for row in resultado:\n",
    "    cod.append(row[0])\n",
    "campos = [\"nome\", \"descricao\", \"codigo\", \"custo\", 'custoFixo', 'comissao', 'imposto', 'rentabilidade']\n"
   ]
  },
  {
   "cell_type": "code",
   "execution_count": 32,
   "metadata": {},
   "outputs": [
    {
     "name": "stdout",
     "output_type": "stream",
     "text": [
      "['Caneta', 'Lapis', 'Caderno', 'Caderno', 'Caderno', 'Caderno']\n"
     ]
    }
   ],
   "source": [
    "print(cod)"
   ]
  },
  {
   "cell_type": "code",
   "execution_count": 40,
   "metadata": {},
   "outputs": [
    {
     "name": "stdout",
     "output_type": "stream",
     "text": [
      "====================================\n",
      "Menu:\n",
      "====================================\n",
      "1. Adicionar novo produto\n",
      "2. Selecionar um produto\n",
      "3. Sair\n",
      "------------------------------------\n",
      "Caneta\n",
      "36\n",
      "15\n",
      "5\n",
      "12\n",
      "20\n"
     ]
    },
    {
     "ename": "TypeError",
     "evalue": "'<' not supported between instances of 'NoneType' and 'int'",
     "output_type": "error",
     "traceback": [
      "\u001b[1;31m---------------------------------------------------------------------------\u001b[0m",
      "\u001b[1;31mTypeError\u001b[0m                                 Traceback (most recent call last)",
      "Cell \u001b[1;32mIn[40], line 122\u001b[0m\n\u001b[0;32m    119\u001b[0m             \u001b[38;5;28mprint\u001b[39m(\u001b[38;5;124m\"\u001b[39m\u001b[38;5;124mOpção inválida. Tente novamente.\u001b[39m\u001b[38;5;124m\"\u001b[39m)\n\u001b[0;32m    121\u001b[0m \u001b[38;5;28;01mif\u001b[39;00m \u001b[38;5;18m__name__\u001b[39m \u001b[38;5;241m==\u001b[39m \u001b[38;5;124m\"\u001b[39m\u001b[38;5;124m__main__\u001b[39m\u001b[38;5;124m\"\u001b[39m:\n\u001b[1;32m--> 122\u001b[0m     \u001b[43mmain\u001b[49m\u001b[43m(\u001b[49m\u001b[43m)\u001b[49m\n",
      "Cell \u001b[1;32mIn[40], line 115\u001b[0m, in \u001b[0;36mmain\u001b[1;34m()\u001b[0m\n\u001b[0;32m    113\u001b[0m     adicionar_novoProduto()\n\u001b[0;32m    114\u001b[0m \u001b[38;5;28;01melif\u001b[39;00m opcao \u001b[38;5;241m==\u001b[39m \u001b[38;5;124m\"\u001b[39m\u001b[38;5;124m2\u001b[39m\u001b[38;5;124m\"\u001b[39m:\n\u001b[1;32m--> 115\u001b[0m     \u001b[43mselecionar_produto\u001b[49m\u001b[43m(\u001b[49m\u001b[43m)\u001b[49m\n\u001b[0;32m    116\u001b[0m \u001b[38;5;28;01melif\u001b[39;00m opcao \u001b[38;5;241m==\u001b[39m \u001b[38;5;124m\"\u001b[39m\u001b[38;5;124m3\u001b[39m\u001b[38;5;124m\"\u001b[39m:\n\u001b[0;32m    117\u001b[0m     \u001b[38;5;28;01mbreak\u001b[39;00m\n",
      "Cell \u001b[1;32mIn[40], line 54\u001b[0m, in \u001b[0;36mselecionar_produto\u001b[1;34m()\u001b[0m\n\u001b[0;32m     52\u001b[0m margemLucroPctBD \u001b[38;5;241m=\u001b[39m seleciona_produto(campos[\u001b[38;5;241m7\u001b[39m], selecionaProduto)\n\u001b[0;32m     53\u001b[0m \u001b[38;5;66;03m# Preço de venda produto\u001b[39;00m\n\u001b[1;32m---> 54\u001b[0m \u001b[38;5;28;01mif\u001b[39;00m \u001b[43mmargemLucroPctBD\u001b[49m\u001b[43m \u001b[49m\u001b[38;5;241;43m<\u001b[39;49m\u001b[43m \u001b[49m\u001b[38;5;241;43m100\u001b[39;49m:\n\u001b[0;32m     55\u001b[0m     precoVenda \u001b[38;5;241m=\u001b[39m custoProdutoBD \u001b[38;5;241m/\u001b[39m (\n\u001b[0;32m     56\u001b[0m         \u001b[38;5;241m1\u001b[39m \u001b[38;5;241m-\u001b[39m ((custoFixoBD \u001b[38;5;241m+\u001b[39m comissaoVendaBD \u001b[38;5;241m+\u001b[39m impostoVendaBD \u001b[38;5;241m+\u001b[39m margemLucroBD) \u001b[38;5;241m/\u001b[39m \u001b[38;5;241m100\u001b[39m)\n\u001b[0;32m     57\u001b[0m     )\n\u001b[0;32m     58\u001b[0m \u001b[38;5;28;01melse\u001b[39;00m:\n",
      "\u001b[1;31mTypeError\u001b[0m: '<' not supported between instances of 'NoneType' and 'int'"
     ]
    }
   ],
   "source": [
    "\n",
    "def seleciona_produto(a,b):\n",
    "    cursor = connection.cursor()\n",
    "    cursor.execute(f'SELECT '+ a +' FROM PRODUTO WHERE(codigo = '+b+')')\n",
    "    resultado = cursor.fetchall()\n",
    "    for row in resultado:\n",
    "        print(row[0])\n",
    "    cursor.close()\n",
    "def exibir_menu():\n",
    "    print(36 * \"=\")\n",
    "    print(\"Menu:\")\n",
    "    print(36 * \"=\")\n",
    "    print(\"1. Adicionar novo produto\")\n",
    "    print(\"2. Selecionar um produto\")\n",
    "    print(\"3. Sair\")\n",
    "    print(36 * \"-\")\n",
    "def adicionar_novoProduto():\n",
    "    print(36 * \"=\")\n",
    "    print(\"\\t Sistema de Cadastro\")\n",
    "    print(36 * \"=\")\n",
    "\n",
    "    codProduto = input(\"Digite o código do produto: \")\n",
    "    nomeProduto = input(\"Digite o nome do produto: \")\n",
    "    descProduto = input(\"Adicione uma descrição ao produto: \")\n",
    "\n",
    "    custoProduto = float(input(\"Qual o custo do Produto: \"))\n",
    "    custoFixoPct = float(input(\"Qual os custo fixos/administrativos do comércio [%]: \"))\n",
    "    comissaoVendaPct = float(input(\"Qual a comissão de venda do produto,em porcentagem [%]: \"))\n",
    "    impostoVendaPct = float(input(\"Qual a aliquota de imposto desejada [%]: \"))\n",
    "    margemLucroPct = float(input(\"Qual a margem de lucro desejada [%]: \"))\n",
    "\n",
    "    cursor = connection.cursor()\n",
    "\n",
    "    cursor.execute(f\"\"\" \n",
    "                    INSERT INTO produto (nome, descricao, codigo, custo, custoFixo, comissao, imposto, rentabilidade) \n",
    "                    VALUES ('{nomeProduto}', '{descProduto}', '{codProduto}', {custoProduto}, {custoFixoPct}, {comissaoVendaPct}, {impostoVendaPct}, {margemLucroPct})\n",
    "                \"\"\")\n",
    "    connection.commit()\n",
    "    \n",
    "    print('Cadastro concluído com sucesso!')\n",
    "\n",
    "\n",
    "def selecionar_produto():\n",
    "    # Lógica para exibir as tarefas existentes\n",
    "    selecionaProduto = input('Digite o código do produto: ')\n",
    "    # Preço de venda produto\n",
    "    cursor = connection.cursor()\n",
    "    nomeBD = seleciona_produto(campos[0], selecionaProduto)\n",
    "    custoProdutoBD = seleciona_produto(campos[3], selecionaProduto)\n",
    "    custoFixoBD = seleciona_produto(campos[4],selecionaProduto)\n",
    "    comissaoVendaPctBD = seleciona_produto(campos[5], selecionaProduto)\n",
    "    impostoVendaPctBD = seleciona_produto(campos[6], selecionaProduto)\n",
    "    margemLucroPctBD = seleciona_produto(campos[7], selecionaProduto)\n",
    "    # Preço de venda produto\n",
    "    if margemLucroPctBD < 100:\n",
    "        precoVenda = custoProdutoBD / (\n",
    "            1 - ((custoFixoBD + comissaoVendaBD + impostoVendaBD + margemLucroBD) / 100)\n",
    "        )\n",
    "    else:\n",
    "        precoVenda = custoProdutoBD + ((custoFixoBD + comissaoVendaBD + impostoVendaBD + margemLucroBD)*custoProdutoBD / 100) \n",
    "    receitaBruta = precoVenda - custoProdutoBD # Receita Bruta\n",
    "\n",
    "    comissaoVenda = comissaoVendaBD * precoVenda / 100 # Comissão de vendas \n",
    "    custoFixo = custoFixoBD * precoVenda / 100 # Custo fixo \n",
    "    impostoVenda = impostoVendaBD * precoVenda / 100 # Imposto\n",
    "\n",
    "    outrosCustos = custoFixo + comissaoVenda + impostoVenda # Outros custos\n",
    "\n",
    "    rentabilidade = receitaBruta - outrosCustos # Rentabilidade\n",
    "\n",
    "    precoVendaPct = 100 * precoVenda / precoVenda # Preço de venda  %\n",
    "    custoProdutoPct = custoProdutoBD * 100 / precoVenda # Custo produto %\n",
    "    receitaBrutaPct = 100 * receitaBruta / precoVenda # Receita bruta  %\n",
    "    outrosCustosPct = 100 * outrosCustos / precoVenda # Outros custos %\n",
    "\n",
    "    rentabilidadePct = rentabilidade * 100 / precoVenda # Rentabilidade %\n",
    "\n",
    "    # Tabela\n",
    "    print(64 * \"=\")\n",
    "    print(f\"Descrição {'Valor':^51} {'[%]':^2}\")\n",
    "    print(64 * \"-\")\n",
    "    print(f\"Preço de Venda: {precoVenda:^40.2f} {precoVendaPct:7.0f}\") \n",
    "    print(f\"Custo de Aquisição (Fornecedor): {custoProdutoBD:^2.2f} {custoProdutoPct:^48.0f}\")\n",
    "    print(f\"Receita Bruta: {receitaBruta:^42.2f} {receitaBrutaPct:^11.0f}\") \n",
    "    print(f\"Custo Fixo/Administrativo: {custoFixo:11.2f} {custoFixoBD:^48.0f}\") \n",
    "    print(f\"Comissão de Vendas: {comissaoVenda:^31.2f} {comissaoVendaBD:^24.0f}\") \n",
    "    print(f\"Imposto: {impostoVenda:^53.2f}{impostoVendaBD:.0f}\") \n",
    "    print(f\"Outros Custos: {outrosCustos:^42.2f} {outrosCustosPct:^10.0f}\") \n",
    "    print(f\"Rentabilidade: {rentabilidade:^42.2f} {rentabilidadePct:^10.0f}\") \n",
    "    print(64 * \"=\")\n",
    "\n",
    "\n",
    "    if margemLucroPct > 20:\n",
    "        print(\"Lucro: Alto\")\n",
    "    elif margemLucroPct > 10:\n",
    "        print('Lucro Médio')    \n",
    "    elif margemLucroPct > 0:\n",
    "        print(\"Lucro: Baixo\")\n",
    "    elif margemLucroPct < 0:\n",
    "        print(\"Lucro: Prejuízo\")\n",
    "    else:\n",
    "        print(\"Lucro: Equilíbrio\")\n",
    "    print(64 * \"=\")\n",
    "\n",
    "    \n",
    "\n",
    "def main():\n",
    "    while True:\n",
    "        exibir_menu()\n",
    "        \n",
    "        opcao = input(\"Escolha uma opção: \")\n",
    "        \n",
    "        if opcao == \"1\":\n",
    "            adicionar_novoProduto()\n",
    "        elif opcao == \"2\":\n",
    "            selecionar_produto()\n",
    "        elif opcao == \"3\":\n",
    "            break\n",
    "        else:\n",
    "            print(\"Opção inválida. Tente novamente.\")\n",
    "\n",
    "if __name__ == \"__main__\":\n",
    "    main()"
   ]
  },
  {
   "cell_type": "code",
   "execution_count": 41,
   "metadata": {},
   "outputs": [
    {
     "ename": "TypeError",
     "evalue": "can only concatenate str (not \"int\") to str",
     "output_type": "error",
     "traceback": [
      "\u001b[1;31m---------------------------------------------------------------------------\u001b[0m",
      "\u001b[1;31mTypeError\u001b[0m                                 Traceback (most recent call last)",
      "Cell \u001b[1;32mIn[41], line 1\u001b[0m\n\u001b[1;32m----> 1\u001b[0m margemLucroPctBD \u001b[38;5;241m=\u001b[39m \u001b[43mseleciona_produto\u001b[49m\u001b[43m(\u001b[49m\u001b[43mcampos\u001b[49m\u001b[43m[\u001b[49m\u001b[38;5;241;43m7\u001b[39;49m\u001b[43m]\u001b[49m\u001b[43m,\u001b[49m\u001b[43m \u001b[49m\u001b[43mselecionaProduto\u001b[49m\u001b[43m)\u001b[49m\n\u001b[0;32m      2\u001b[0m \u001b[38;5;28mtype\u001b[39m(margemLucroPctBD)\n",
      "Cell \u001b[1;32mIn[40], line 3\u001b[0m, in \u001b[0;36mseleciona_produto\u001b[1;34m(a, b)\u001b[0m\n\u001b[0;32m      1\u001b[0m \u001b[38;5;28;01mdef\u001b[39;00m \u001b[38;5;21mseleciona_produto\u001b[39m(a,b):\n\u001b[0;32m      2\u001b[0m     cursor \u001b[38;5;241m=\u001b[39m connection\u001b[38;5;241m.\u001b[39mcursor()\n\u001b[1;32m----> 3\u001b[0m     cursor\u001b[38;5;241m.\u001b[39mexecute(\u001b[38;5;124;43mf\u001b[39;49m\u001b[38;5;124;43m'\u001b[39;49m\u001b[38;5;124;43mSELECT \u001b[39;49m\u001b[38;5;124;43m'\u001b[39;49m\u001b[38;5;241;43m+\u001b[39;49m\u001b[43m \u001b[49m\u001b[43ma\u001b[49m\u001b[43m \u001b[49m\u001b[38;5;241;43m+\u001b[39;49m\u001b[38;5;124;43m'\u001b[39;49m\u001b[38;5;124;43m FROM PRODUTO WHERE(codigo = \u001b[39;49m\u001b[38;5;124;43m'\u001b[39;49m\u001b[38;5;241;43m+\u001b[39;49m\u001b[43mb\u001b[49m\u001b[38;5;241m+\u001b[39m\u001b[38;5;124m'\u001b[39m\u001b[38;5;124m)\u001b[39m\u001b[38;5;124m'\u001b[39m)\n\u001b[0;32m      4\u001b[0m     resultado \u001b[38;5;241m=\u001b[39m cursor\u001b[38;5;241m.\u001b[39mfetchall()\n\u001b[0;32m      5\u001b[0m     \u001b[38;5;28;01mfor\u001b[39;00m row \u001b[38;5;129;01min\u001b[39;00m resultado:\n",
      "\u001b[1;31mTypeError\u001b[0m: can only concatenate str (not \"int\") to str"
     ]
    }
   ],
   "source": [
    "margemLucroPctBD = seleciona_produto(campos[7], selecionaProduto)\n",
    "type(margemLucroPctBD)"
   ]
  },
  {
   "cell_type": "code",
   "execution_count": 11,
   "metadata": {},
   "outputs": [],
   "source": [
    "def seleciona_produto(a,b):\n",
    "    cursor = connection.cursor()\n",
    "    cursor.execute(f'SELECT '+ a +' FROM PRODUTO WHERE(codigo = '+b+')')\n",
    "    resultado = cursor.fetchall()\n",
    "    for row in resultado:\n",
    "        print(row[0])\n",
    "    cursor.close()"
   ]
  },
  {
   "cell_type": "code",
   "execution_count": 35,
   "metadata": {},
   "outputs": [
    {
     "name": "stdout",
     "output_type": "stream",
     "text": [
      "1\n"
     ]
    }
   ],
   "source": [
    "seleciona_produto(campos[2],cod[0])"
   ]
  },
  {
   "cell_type": "code",
   "execution_count": 28,
   "metadata": {},
   "outputs": [
    {
     "ename": "TypeError",
     "evalue": "can only concatenate str (not \"tuple\") to str",
     "output_type": "error",
     "traceback": [
      "\u001b[1;31m---------------------------------------------------------------------------\u001b[0m",
      "\u001b[1;31mTypeError\u001b[0m                                 Traceback (most recent call last)",
      "Cell \u001b[1;32mIn[28], line 2\u001b[0m\n\u001b[0;32m      1\u001b[0m cursor \u001b[38;5;241m=\u001b[39m connection\u001b[38;5;241m.\u001b[39mcursor()\n\u001b[1;32m----> 2\u001b[0m cursor\u001b[38;5;241m.\u001b[39mexecute(\u001b[38;5;124;43m'\u001b[39;49m\u001b[38;5;124;43mSELECT \u001b[39;49m\u001b[38;5;124;43m'\u001b[39;49m\u001b[43m \u001b[49m\u001b[38;5;241;43m+\u001b[39;49m\u001b[43m \u001b[49m\u001b[43mcampos\u001b[49m\u001b[43m[\u001b[49m\u001b[38;5;241;43m2\u001b[39;49m\u001b[43m]\u001b[49m\u001b[43m \u001b[49m\u001b[38;5;241;43m+\u001b[39;49m\u001b[43m \u001b[49m\u001b[38;5;124;43m'\u001b[39;49m\u001b[38;5;124;43m FROM PRODUTO WHERE(codigo =\u001b[39;49m\u001b[38;5;124;43m'\u001b[39;49m\u001b[43m \u001b[49m\u001b[38;5;241;43m+\u001b[39;49m\u001b[43mcod\u001b[49m\u001b[43m[\u001b[49m\u001b[38;5;241;43m0\u001b[39;49m\u001b[43m]\u001b[49m\u001b[38;5;241m+\u001b[39m\u001b[38;5;124m'\u001b[39m\u001b[38;5;124m)\u001b[39m\u001b[38;5;124m'\u001b[39m)\n\u001b[0;32m      3\u001b[0m resultado \u001b[38;5;241m=\u001b[39m cursor\u001b[38;5;241m.\u001b[39mfetchall()\n\u001b[0;32m      4\u001b[0m \u001b[38;5;28;01mfor\u001b[39;00m row \u001b[38;5;129;01min\u001b[39;00m resultado:\n",
      "\u001b[1;31mTypeError\u001b[0m: can only concatenate str (not \"tuple\") to str"
     ]
    }
   ],
   "source": [
    "cursor = connection.cursor()\n",
    "cursor.execute('SELECT ' + campos[2] + ' FROM PRODUTO WHERE(codigo =' +cod[0]+')')\n",
    "resultado = cursor.fetchall()\n",
    "for row in resultado:\n",
    "    print(row[0])\n",
    "cursor.close()"
   ]
  },
  {
   "cell_type": "code",
   "execution_count": 14,
   "metadata": {},
   "outputs": [
    {
     "ename": "TypeError",
     "evalue": "can only concatenate str (not \"int\") to str",
     "output_type": "error",
     "traceback": [
      "\u001b[1;31m---------------------------------------------------------------------------\u001b[0m",
      "\u001b[1;31mTypeError\u001b[0m                                 Traceback (most recent call last)",
      "Cell \u001b[1;32mIn[14], line 1\u001b[0m\n\u001b[1;32m----> 1\u001b[0m impostoVendaPctBD \u001b[38;5;241m=\u001b[39m \u001b[43mseleciona_produto\u001b[49m\u001b[43m(\u001b[49m\u001b[43mcampos\u001b[49m\u001b[43m[\u001b[49m\u001b[38;5;241;43m6\u001b[39;49m\u001b[43m]\u001b[49m\u001b[43m,\u001b[49m\u001b[43m \u001b[49m\u001b[43mselecionaProduto\u001b[49m\u001b[43m)\u001b[49m\n\u001b[0;32m      2\u001b[0m \u001b[38;5;28mprint\u001b[39m(impostoVendaPctBD)\n",
      "Cell \u001b[1;32mIn[11], line 3\u001b[0m, in \u001b[0;36mseleciona_produto\u001b[1;34m(a, b)\u001b[0m\n\u001b[0;32m      1\u001b[0m \u001b[38;5;28;01mdef\u001b[39;00m \u001b[38;5;21mseleciona_produto\u001b[39m(a,b):\n\u001b[0;32m      2\u001b[0m     cursor \u001b[38;5;241m=\u001b[39m connection\u001b[38;5;241m.\u001b[39mcursor()\n\u001b[1;32m----> 3\u001b[0m     cursor\u001b[38;5;241m.\u001b[39mexecute(\u001b[38;5;124;43mf\u001b[39;49m\u001b[38;5;124;43m'\u001b[39;49m\u001b[38;5;124;43mSELECT \u001b[39;49m\u001b[38;5;124;43m'\u001b[39;49m\u001b[38;5;241;43m+\u001b[39;49m\u001b[43m \u001b[49m\u001b[43ma\u001b[49m\u001b[43m \u001b[49m\u001b[38;5;241;43m+\u001b[39;49m\u001b[38;5;124;43m'\u001b[39;49m\u001b[38;5;124;43m FROM PRODUTO WHERE(codigo = \u001b[39;49m\u001b[38;5;124;43m'\u001b[39;49m\u001b[38;5;241;43m+\u001b[39;49m\u001b[43mb\u001b[49m\u001b[38;5;241m+\u001b[39m\u001b[38;5;124m'\u001b[39m\u001b[38;5;124m)\u001b[39m\u001b[38;5;124m'\u001b[39m)\n\u001b[0;32m      4\u001b[0m     resultado \u001b[38;5;241m=\u001b[39m cursor\u001b[38;5;241m.\u001b[39mfetchall()\n\u001b[0;32m      5\u001b[0m     \u001b[38;5;28;01mfor\u001b[39;00m row \u001b[38;5;129;01min\u001b[39;00m resultado:\n",
      "\u001b[1;31mTypeError\u001b[0m: can only concatenate str (not \"int\") to str"
     ]
    }
   ],
   "source": [
    "impostoVendaPctBD = seleciona_produto(campos[6], selecionaProduto)\n",
    "print(impostoVendaPctBD)"
   ]
  },
  {
   "cell_type": "code",
   "execution_count": 58,
   "metadata": {},
   "outputs": [
    {
     "name": "stdout",
     "output_type": "stream",
     "text": [
      "('Caneta Profissional',)\n",
      "None\n"
     ]
    }
   ],
   "source": [
    "a = seleciona_produto(campos[0],cod[0])\n",
    "print(a)"
   ]
  },
  {
   "cell_type": "code",
   "execution_count": 24,
   "metadata": {},
   "outputs": [
    {
     "data": {
      "text/plain": [
       "'nome'"
      ]
     },
     "execution_count": 24,
     "metadata": {},
     "output_type": "execute_result"
    }
   ],
   "source": [
    "campos[0]"
   ]
  },
  {
   "cell_type": "code",
   "execution_count": 29,
   "metadata": {},
   "outputs": [
    {
     "name": "stdout",
     "output_type": "stream",
     "text": [
      "Caneta\n"
     ]
    }
   ],
   "source": [
    "selecionaProduto = int(input('Digite o código do produto: '))\n",
    "cursor = connection.cursor()\n",
    "cursor.execute(f'SELECT nome FROM PRODUTO WHERE(codigo = {selecionaProduto})')\n",
    "resultado = cursor.fetchall()\n",
    "for row in resultado:\n",
    "    print(row[0])\n",
    "cursor.close()\n"
   ]
  }
 ],
 "metadata": {
  "kernelspec": {
   "display_name": "base",
   "language": "python",
   "name": "python3"
  },
  "language_info": {
   "codemirror_mode": {
    "name": "ipython",
    "version": 3
   },
   "file_extension": ".py",
   "mimetype": "text/x-python",
   "name": "python",
   "nbconvert_exporter": "python",
   "pygments_lexer": "ipython3",
   "version": "3.10.9"
  }
 },
 "nbformat": 4,
 "nbformat_minor": 2
}
